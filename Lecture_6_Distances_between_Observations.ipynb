{
  "nbformat": 4,
  "nbformat_minor": 0,
  "metadata": {
    "colab": {
      "provenance": [],
      "include_colab_link": true
    },
    "kernelspec": {
      "name": "python3",
      "display_name": "Python 3"
    },
    "language_info": {
      "name": "python"
    }
  },
  "cells": [
    {
      "cell_type": "markdown",
      "metadata": {
        "id": "view-in-github",
        "colab_type": "text"
      },
      "source": [
        "<a href=\"https://colab.research.google.com/github/hw92/newProject/blob/main/Lecture_6_Distances_between_Observations.ipynb\" target=\"_parent\"><img src=\"https://colab.research.google.com/assets/colab-badge.svg\" alt=\"Open In Colab\"/></a>"
      ]
    },
    {
      "cell_type": "markdown",
      "source": [
        "# Lecture 6 - Distances between Observations"
      ],
      "metadata": {
        "id": "q-IaVAaHRNMH"
      }
    },
    {
      "cell_type": "code",
      "execution_count": null,
      "metadata": {
        "id": "Q_7MLukQPFDm"
      },
      "outputs": [],
      "source": [
        "import pandas as pd\n",
        "df = pd.read_table(\"https://datasci112.stanford.edu/data/housing.tsv\")\n",
        "df"
      ]
    },
    {
      "cell_type": "code",
      "source": [
        "df.plot.scatter(x=\"Gr Liv Area\", y=\"Bedroom AbvGr\", alpha=0.4)\n",
        "df[[\"Gr Liv Area\", \"Bedroom AbvGr\"]].corr()"
      ],
      "metadata": {
        "id": "2_7VCXRCRHt9"
      },
      "execution_count": null,
      "outputs": []
    },
    {
      "cell_type": "markdown",
      "source": [
        "## Distances between Observations"
      ],
      "metadata": {
        "id": "ByTiJnlaKTt_"
      }
    },
    {
      "cell_type": "markdown",
      "source": [
        "Let's define the relevant features and select the rows."
      ],
      "metadata": {
        "id": "DDNiFCm7VOYm"
      }
    },
    {
      "cell_type": "code",
      "source": [
        "features = [\"Gr Liv Area\", \"Bedroom AbvGr\", \"Full Bath\", \"Half Bath\"]\n",
        "\n",
        "df.loc[1707, features]"
      ],
      "metadata": {
        "id": "FxJPDOnYZXJK"
      },
      "execution_count": null,
      "outputs": []
    },
    {
      "cell_type": "code",
      "source": [
        "df.loc[290, features]"
      ],
      "metadata": {
        "id": "4_YU9rE_-Ouq"
      },
      "execution_count": null,
      "outputs": []
    },
    {
      "cell_type": "markdown",
      "source": [
        "Now we calculate the distance. Note that we import `numpy` for its square root function."
      ],
      "metadata": {
        "id": "jbTKpov7VSVd"
      }
    },
    {
      "cell_type": "code",
      "source": [
        "import numpy as np\n",
        "np.sqrt(\n",
        "    ((df.loc[1707, features] - df.loc[290, features]) ** 2).sum()\n",
        ")"
      ],
      "metadata": {
        "id": "Sr2ygdr4KGv4"
      },
      "execution_count": null,
      "outputs": []
    },
    {
      "cell_type": "markdown",
      "source": [
        "Which houses are most similar to house #1707?\n",
        "\n",
        "Let's calculate the distance between every house in the data set and this one."
      ],
      "metadata": {
        "id": "Mhs6WZmuiuF7"
      }
    },
    {
      "cell_type": "code",
      "source": [
        "diffs = df[features] - df.loc[1707, features]\n",
        "diffs"
      ],
      "metadata": {
        "id": "r3xIRBdnit6i"
      },
      "execution_count": null,
      "outputs": []
    },
    {
      "cell_type": "code",
      "source": [
        "dists = np.sqrt((diffs ** 2).sum(axis=\"columns\"))\n",
        "dists"
      ],
      "metadata": {
        "id": "kHkOMqoWjBJr"
      },
      "execution_count": null,
      "outputs": []
    },
    {
      "cell_type": "code",
      "source": [
        "dists.sort_values()"
      ],
      "metadata": {
        "id": "UHsKH39EjNOX"
      },
      "execution_count": null,
      "outputs": []
    },
    {
      "cell_type": "code",
      "source": [
        "df.loc[[1707, 2336, 1182, 160, 565]]"
      ],
      "metadata": {
        "id": "b8F8TqijjZjj"
      },
      "execution_count": null,
      "outputs": []
    },
    {
      "cell_type": "markdown",
      "source": [
        "Intuitively, it seems that house #160 is more similar to #1707 than #2336. Why did house #2336 have a smaller distance?"
      ],
      "metadata": {
        "id": "Hc_VFjebkMit"
      }
    },
    {
      "cell_type": "markdown",
      "source": [
        "## Scaling"
      ],
      "metadata": {
        "id": "XDMjusbtkawJ"
      }
    },
    {
      "cell_type": "code",
      "source": [
        "df_standardized = ((df[features] - df[features].mean(axis=\"rows\")) /\n",
        "                   df[features].std(axis=\"rows\"))\n",
        "df_standardized"
      ],
      "metadata": {
        "id": "NP5wTe0Vkjrc"
      },
      "execution_count": null,
      "outputs": []
    },
    {
      "cell_type": "code",
      "source": [
        "df_standardized.plot.scatter(\n",
        "    x=\"Gr Liv Area\", y=\"Bedroom AbvGr\", alpha=0.4)"
      ],
      "metadata": {
        "id": "8mOK1C6Ok9-8"
      },
      "execution_count": null,
      "outputs": []
    },
    {
      "cell_type": "code",
      "source": [
        "import numpy as np\n",
        "diffs = df_standardized - df_standardized.loc[1707]\n",
        "dists = np.sqrt((diffs ** 2).sum(axis=\"columns\"))\n",
        "dists.sort_values()"
      ],
      "metadata": {
        "id": "ao4HVK8RsffJ"
      },
      "execution_count": null,
      "outputs": []
    },
    {
      "cell_type": "markdown",
      "source": [
        "## Calculating Distances in Scikit-Learn"
      ],
      "metadata": {
        "id": "RRFijIJmt5pR"
      }
    },
    {
      "cell_type": "markdown",
      "source": [
        "Let's repeat the above analysis, but using the library Scikit-Learn."
      ],
      "metadata": {
        "id": "znylNY9exnKo"
      }
    },
    {
      "cell_type": "code",
      "source": [
        "from sklearn.preprocessing import StandardScaler\n",
        "\n",
        "# Define the scaler.\n",
        "scaler = StandardScaler()\n",
        "\n",
        "# This calculates the mean and standard deviation of each variable.\n",
        "scaler.fit(df[features])\n",
        "\n",
        "# This actually does the scaling.\n",
        "array_standardized = scaler.transform(df[features])\n",
        "array_standardized"
      ],
      "metadata": {
        "id": "N78PDil4kg5u"
      },
      "execution_count": null,
      "outputs": []
    },
    {
      "cell_type": "code",
      "source": [
        "from sklearn.metrics import pairwise_distances\n",
        "\n",
        "dists = pairwise_distances(array_standardized[[1707]], array_standardized)\n",
        "dists"
      ],
      "metadata": {
        "id": "bG2NyrueqPnD"
      },
      "execution_count": null,
      "outputs": []
    },
    {
      "cell_type": "code",
      "source": [
        "dists[0].argsort()"
      ],
      "metadata": {
        "id": "K7GeliOZuw3z"
      },
      "execution_count": null,
      "outputs": []
    },
    {
      "cell_type": "markdown",
      "source": [
        "We can also get a matrix of the distances between every pair of points."
      ],
      "metadata": {
        "id": "7iSkkc_uxlOt"
      }
    },
    {
      "cell_type": "code",
      "source": [
        "dist_matrix = pairwise_distances(array_standardized)\n",
        "dist_matrix"
      ],
      "metadata": {
        "id": "yWMDfcF5wRx-"
      },
      "execution_count": null,
      "outputs": []
    },
    {
      "cell_type": "markdown",
      "source": [
        "Note that row #1707 of this matrix contains the `dists` we calculated above."
      ],
      "metadata": {
        "id": "o0XJnEfpxro7"
      }
    },
    {
      "cell_type": "code",
      "source": [
        "dist_matrix[1707]"
      ],
      "metadata": {
        "id": "UgFDjecByYdA"
      },
      "execution_count": null,
      "outputs": []
    }
  ]
}